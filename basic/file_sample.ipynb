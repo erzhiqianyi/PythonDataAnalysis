{
 "cells": [
  {
   "cell_type": "markdown",
   "metadata": {},
   "source": [
    "### open \n",
    "open a file "
   ]
  },
  {
   "cell_type": "code",
   "execution_count": 6,
   "metadata": {},
   "outputs": [
    {
     "name": "stdout",
     "output_type": "stream",
     "text": [
      "Sue帽a el rico en su riqueza,\n",
      "que m谩s cuidados le ofrece;\n",
      "\n",
      "sue帽a el pobre que padece\n",
      "su miseria y su pobreza;\n",
      "\n",
      "sue帽a el que a medrar empieza,\n",
      "sue帽a el que afana y pretende,\n",
      "sue帽a el que agravia y ofende,\n",
      "\n",
      "y en el mundo, en conclusi贸n,\n",
      "todos sue帽an lo que son,\n",
      "aunque ninguno lo entiende.\n",
      "\n"
     ]
    }
   ],
   "source": [
    "path = 'segismundo.txt'\n",
    "f = open(path, 'r')\n",
    "for line in f:\n",
    "    print(line, end='')\n",
    "f.close()"
   ]
  },
  {
   "cell_type": "code",
   "execution_count": 7,
   "metadata": {},
   "outputs": [
    {
     "name": "stdout",
     "output_type": "stream",
     "text": [
      "Sue帽a el rico en su riqueza,\n",
      "que m谩s cuidados le ofrece;\n",
      "\n",
      "sue帽a el pobre que padece\n",
      "su miseria y su pobreza;\n",
      "\n",
      "sue帽a el que a medrar empieza,\n",
      "sue帽a el que afana y pretende,\n",
      "sue帽a el que agravia y ofende,\n",
      "\n",
      "y en el mundo, en conclusi贸n,\n",
      "todos sue帽an lo que son,\n",
      "aunque ninguno lo entiende.\n",
      "\n"
     ]
    }
   ],
   "source": [
    "with open(path, 'r') as f:\n",
    "    for line in f:\n",
    "        print(line, end='')"
   ]
  },
  {
   "cell_type": "markdown",
   "metadata": {},
   "source": [
    "### mode\n",
    "#### r \n",
    "read only mode\n",
    "#### w \n",
    "write only mode; create a new file (erasing the data for any file with the same name)\n",
    "#### x \n",
    "write only mode;create a new file ,but fails if the file path already exists\n",
    "#### a\n",
    "append to existing file(create the file if it does not already exists)\n",
    "#### r+\n",
    "read and write\n",
    "#### b\n",
    "add to mode for binary files\n",
    "#### t\n",
    "text mode for files"
   ]
  },
  {
   "cell_type": "markdown",
   "metadata": {},
   "source": [
    "### write file \n",
    "write()\n",
    "writelines()"
   ]
  },
  {
   "cell_type": "code",
   "execution_count": 8,
   "metadata": {},
   "outputs": [],
   "source": [
    "with open('tmp.txt', 'w') as f:\n",
    "    f.writelines(x for x in open(path, 'r') if len(x) > 1)"
   ]
  },
  {
   "cell_type": "markdown",
   "metadata": {},
   "source": [
    "### file methods\n",
    "#### read([size])\n",
    "Return data from file as a string, with optional size argument indicating the number of bytes to read\n",
    "#### readines([size])\n",
    "Return list of lines in the file, with optional size argument\n",
    "#### write(str)\n",
    "Write passed string to file\n",
    "#### writeline(strings)\n",
    "Write passed sequence of strings to the file\n",
    "#### close()\n",
    "close the handle\n",
    "#### flush()\n",
    "Flush the internal I/O buffer to disk\n",
    "#### seek(pos)\n",
    "Move to indicated file position (integer)\n",
    "#### tell()\n",
    "Return current file position as integer\n",
    "#### closed()\n",
    "True if the file is closed"
   ]
  }
 ],
 "metadata": {
  "interpreter": {
   "hash": "b3ba2566441a7c06988d0923437866b63cedc61552a5af99d1f4fb67d367b25f"
  },
  "kernelspec": {
   "display_name": "Python 3.8.8 64-bit ('base': conda)",
   "name": "python3"
  },
  "language_info": {
   "codemirror_mode": {
    "name": "ipython",
    "version": 3
   },
   "file_extension": ".py",
   "mimetype": "text/x-python",
   "name": "python",
   "nbconvert_exporter": "python",
   "pygments_lexer": "ipython3",
   "version": "3.8.8"
  },
  "orig_nbformat": 4
 },
 "nbformat": 4,
 "nbformat_minor": 2
}
